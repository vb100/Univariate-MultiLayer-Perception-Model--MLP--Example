{
 "cells": [
  {
   "cell_type": "markdown",
   "metadata": {},
   "source": [
    "<h2>Univariate MultiLayer Perception Model (MLP) Example</h2>"
   ]
  },
  {
   "cell_type": "markdown",
   "metadata": {},
   "source": [
    "<p>This training demonstrate how to develop a <b>Multilayer Perceptron Model</b> (<b>MLP</b>) for univariate time series forecasting.</p></br>\n",
    "<p><h3>The plan of attack</h3>\n",
    "<ul>>> Define a simple univariate problem as a sequence of integers</ul>\n",
    "<ul>>> Fit the model on this sequence (Train the model)</ul>\n",
    "<ul>>> Have the model predict the next value in the sequence.</ul></p></br>\n",
    "<p><h3>Model Explanation:</h3>\n",
    "<ul>>> Define number of input steps as <code>3</code> via <code>input_dim</code> argument on the first hidden layer.</ul>\n",
    "<ul>>> We will use efficienct <code>Adam</code> version of stochastic gradient descent.</ul>\n",
    "<ul>>> Optimize the mean squared error (<code>mse</code>) loss function.</ul></p>"
   ]
  },
  {
   "cell_type": "markdown",
   "metadata": {},
   "source": [
    "<h3>Full Python Code:</h3>"
   ]
  },
  {
   "cell_type": "code",
   "execution_count": 1,
   "metadata": {},
   "outputs": [
    {
     "name": "stderr",
     "output_type": "stream",
     "text": [
      "C:\\Users\\vb100\\AppData\\Local\\conda\\conda\\envs\\deep\\lib\\site-packages\\h5py\\__init__.py:36: FutureWarning: Conversion of the second argument of issubdtype from `float` to `np.floating` is deprecated. In future, it will be treated as `np.float64 == np.dtype(float).type`.\n",
      "  from ._conv import register_converters as _register_converters\n",
      "Using TensorFlow backend.\n"
     ]
    }
   ],
   "source": [
    "# Import modules and packages\n",
    "from numpy import array\n",
    "from keras.models import Sequential\n",
    "from keras.layers import Dense"
   ]
  },
  {
   "cell_type": "code",
   "execution_count": 2,
   "metadata": {},
   "outputs": [],
   "source": [
    "# Define Dataset\n",
    "X = array([[10, 20, 30], [20, 30, 40], [30, 40, 50], [40, 50, 60]])\n",
    "y = array([40, 50, 60, 70]) "
   ]
  },
  {
   "cell_type": "code",
   "execution_count": 3,
   "metadata": {},
   "outputs": [
    {
     "name": "stdout",
     "output_type": "stream",
     "text": [
      "Independent data (X):\n",
      "[[10 20 30]\n",
      " [20 30 40]\n",
      " [30 40 50]\n",
      " [40 50 60]]\n",
      "\n",
      "Dependent Data (y):\n",
      "[40 50 60 70]\n"
     ]
    }
   ],
   "source": [
    "print('Independent data (X):\\n{}\\n\\nDependent Data (y):\\n{}'.format(X, y))"
   ]
  },
  {
   "cell_type": "code",
   "execution_count": 4,
   "metadata": {},
   "outputs": [
    {
     "name": "stdout",
     "output_type": "stream",
     "text": [
      "80.55065\n"
     ]
    }
   ],
   "source": [
    "# Define Model\n",
    "model = Sequential()\n",
    "model.add(Dense(100, activation = 'relu', input_dim = 3))\n",
    "model.add(Dense(1))\n",
    "model.compile(optimizer = 'adam', loss = 'mse')\n",
    "\n",
    "# Fit Model\n",
    "model.fit(X, y, epochs = 2000, verbose = 0)\n",
    "\n",
    "# Demonstrate Prediction\n",
    "x_input = array([50, 60, 70])\n",
    "x_input = x_input.reshape((1, 3))\n",
    "yhat = model.predict(x_input, verbose = 0)[0][0]\n",
    "print(yhat)"
   ]
  },
  {
   "cell_type": "markdown",
   "metadata": {},
   "source": [
    "<p>© Vytautas Bielinskas, 13 Oct 2018, Lithuania</p>"
   ]
  }
 ],
 "metadata": {
  "kernelspec": {
   "display_name": "Python 3",
   "language": "python",
   "name": "python3"
  },
  "language_info": {
   "codemirror_mode": {
    "name": "ipython",
    "version": 3
   },
   "file_extension": ".py",
   "mimetype": "text/x-python",
   "name": "python",
   "nbconvert_exporter": "python",
   "pygments_lexer": "ipython3",
   "version": "3.5.5"
  }
 },
 "nbformat": 4,
 "nbformat_minor": 2
}
